{
 "cells": [
  {
   "cell_type": "code",
   "execution_count": 140,
   "metadata": {},
   "outputs": [
    {
     "name": "stdout",
     "output_type": "stream",
     "text": [
      "[{'year': '2023', 'assets': 411976000000.0, 'liabilities': 205753000000.0}, {'year': '2022', 'assets': 364840000000.0, 'liabilities': 198298000000.0}, {'year': '2021', 'assets': 333779000000.0, 'liabilities': 191791000000.0}]\n"
     ]
    }
   ],
   "source": [
    "import yfinance as yf\n",
    "\n",
    "symbol = 'MSFT'\n",
    "stock = yf.Ticker(symbol)\n",
    "\n",
    "# Fetch balance sheet data\n",
    "balance_sheet = stock.balance_sheet\n",
    "\n",
    "# Check if 'Total Liabilities' or similar exists\n",
    "if 'Total Liabilities' in balance_sheet.index:\n",
    "    total_liabilities = balance_sheet.loc['Total Liabilities']\n",
    "elif 'Total Liabilities Net Minority Interest' in balance_sheet.index:\n",
    "    total_liabilities = balance_sheet.loc['Total Liabilities Net Minority Interest']\n",
    "else:\n",
    "    raise KeyError(\"Total Liabilities not found in the balance sheet data.\")\n",
    "\n",
    "# Get total assets\n",
    "total_assets = balance_sheet.loc['Total Assets']\n",
    "\n",
    "# Get the top 3 most recent values\n",
    "top_3_assets = total_assets.head(3)\n",
    "top_3_liabilities = total_liabilities.head(3)\n",
    "\n",
    "# Combine into the desired format\n",
    "Assets_Liabilities = []\n",
    "for year in top_3_assets.index:\n",
    "    Assets_Liabilities.append({\n",
    "        'year': year.strftime('%Y'),  # Only the year part\n",
    "        'assets': top_3_assets[year],\n",
    "        'liabilities': top_3_liabilities[year]\n",
    "    })\n",
    "\n",
    "# Print the combined data\n",
    "print(Assets_Liabilities)\n"
   ]
  },
  {
   "cell_type": "code",
   "execution_count": null,
   "metadata": {},
   "outputs": [],
   "source": []
  }
 ],
 "metadata": {
  "kernelspec": {
   "display_name": "Python 3",
   "language": "python",
   "name": "python3"
  },
  "language_info": {
   "codemirror_mode": {
    "name": "ipython",
    "version": 3
   },
   "file_extension": ".py",
   "mimetype": "text/x-python",
   "name": "python",
   "nbconvert_exporter": "python",
   "pygments_lexer": "ipython3",
   "version": "3.12.4"
  }
 },
 "nbformat": 4,
 "nbformat_minor": 2
}
